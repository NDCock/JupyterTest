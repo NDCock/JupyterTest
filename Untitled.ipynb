{
 "cells": [
  {
   "cell_type": "code",
   "execution_count": 1,
   "metadata": {},
   "outputs": [
    {
     "name": "stdout",
     "output_type": "stream",
     "text": [
      "2019-12-31T18:00:00+01:00\n",
      "The average price on the day n° 0 is 48.88 €\n",
      "The average price on the day n° 1 is 47.8 €\n",
      "The average price on the day n° 2 is 48.56 €\n",
      "The average price on the day n° 3 is 48.78 €\n",
      "The average price on the day n° 4 is 49.23 €\n",
      "The average price on the day n° 5 is 43.8 €\n",
      "The average price on the day n° 6 is 39.52 €\n"
     ]
    }
   ],
   "source": [
    "# -*- coding: utf-8 -*-\n",
    "\"\"\"\n",
    "Created on Fri Jun 19 12:15:27 2020\n",
    "\n",
    "@author: mojgan\n",
    "\"\"\"\n",
    "\n",
    "import pandas as pd\n",
    "from matplotlib import pyplot as plt\n",
    "from numpy import  mean, absolute \n",
    "import numpy as np\n",
    "import time \n",
    "import datetime\n",
    "\n",
    "data = pd.read_csv('DA prices BE NL 2018-2019.csv', sep = ';')\n",
    "Data = list(data)\n",
    "Time = list(data.Time)\n",
    "TimeData = []\n",
    "\n",
    "#for t in Time[1:]:\n",
    "    \n",
    "    \n",
    "#print(TimeData[0].tm_mday)\n",
    "        \n",
    "TimeData = []\n",
    "ElectricityPrice = {}\n",
    "for row in data.values.tolist():#Data[:1]:\n",
    "    t = row[0]\n",
    "    T = time.strptime(t[0:-3] + t[-2:],\"%Y-%m-%dT%H:%M:%S%z\")\n",
    "    TimeData.append(T)\n",
    "    \n",
    "    \n",
    "    Price = np.array(row[1:])\n",
    "    NewPrice = np.array(row[5])\n",
    "    DayOfTheWeek = T.tm_wday\n",
    "    if DayOfTheWeek in ElectricityPrice:\n",
    "        ElectricityPrice[DayOfTheWeek]= np.vstack((ElectricityPrice[DayOfTheWeek],Price))\n",
    "    else:\n",
    "        ElectricityPrice[DayOfTheWeek]=(Price)\n",
    "print(t)\n",
    "AveragePrice = {}\n",
    "for key in ElectricityPrice:\n",
    "    AveragePrice[key] = np.mean(ElectricityPrice[key],axis = 0)\n",
    "\n",
    "\n",
    "##\n",
    "Template = \"The average price on the day n° {day} is {price} €\"\n",
    "\n",
    "for key in ElectricityPrice:\n",
    "    print(Template.format(day = key,price = round(mean(ElectricityPrice[key]),2)))"
   ]
  },
  {
   "cell_type": "code",
   "execution_count": 29,
   "metadata": {},
   "outputs": [
    {
     "data": {
      "application/vnd.jupyter.widget-view+json": {
       "model_id": "0e57f26b7ab84706ae38547404bec3ca",
       "version_major": 2,
       "version_minor": 0
      },
      "text/plain": [
       "interactive(children=(Dropdown(description='column', options=('imbalance_price_neg_be', 'imbalance_price_pos_b…"
      ]
     },
     "metadata": {},
     "output_type": "display_data"
    }
   ],
   "source": [
    "import pandas as pd\n",
    "import matplotlib\n",
    "from matplotlib import pyplot as plt\n",
    "import numpy as np\n",
    "import time \n",
    "import datetime\n",
    "import matplotlib.pyplot as plt\n",
    "\n",
    "#Opening of the data\n",
    "data = pd.read_csv('DA prices BE NL 2018-2019.csv', sep = ';')\n",
    "\n",
    "#Cleaning of the \"Time\" column string by removing the +01:00\n",
    "data['Time'] = data['Time'].str.replace('\\+01:00','')\n",
    "\n",
    "#Conversion of the Time string into Datetime format\n",
    "Time = pd.to_datetime(data['Time'],utc = True)#format=\"%Y-%m-%dT%H:%M:%S%z\")\n",
    "\n",
    "#Extracting of the day of the year from the Datetime object and creation of a new column DOY\n",
    "#Similar time properties can be search (day, month, ...) more info here https://pandas.pydata.org/pandas-docs/stable/reference/api/pandas.DatetimeIndex.html\n",
    "data['DOY'] = pd.DatetimeIndex(Time).hour\n",
    "\n",
    "\n",
    "\n",
    "#Grouping of the data by day of the year (groupby fct) and aggregation using the mean in the agg() function. Other function can be used as\n",
    "# np.std or np.median for example\n",
    "dataMean = data.groupby(by = \"DOY\").agg(np.mean)\n",
    "dataStd = data.groupby(by = \"DOY\").agg(np.std)\n",
    "Error = dataStd['da_auction_price_be']\n",
    "#Plot of the price over time using the dataframe plot function. More option for the plot are available here https://pandas.pydata.org/pandas-docs/version/0.23.4/generated/pandas.DataFrame.plot.html\n",
    "#print(Error)\n",
    "\n",
    "\n",
    "#plt.savefig('Fig',dpi = 300,linewidth = 0.25)\n",
    "\n",
    "\n",
    "import ipywidgets as widgets\n",
    "from ipywidgets import interact, interact_manual\n",
    "@interact\n",
    "def show_articles_more_than(column=dataMean.columns,TimePeriod = ['hour','dayofweek','dayofyear']):\n",
    "    data['DOY'] = getattr(pd.DatetimeIndex(Time),TimePeriod)\n",
    "    dataMean = data.groupby(by = \"DOY\").agg(np.mean)\n",
    "    dataStd = data.groupby(by = \"DOY\").agg(np.std)\n",
    "    Error = dataStd['da_auction_price_be']\n",
    "    Fig = dataMean[column].plot(yerr = Error, grid = True,linewidth=1.5,color = 'k',ecolor='blue',elinewidth = 0.5)\n",
    "    plt.rcParams['figure.figsize'] = [20, 16]\n",
    "    #Fig = dataMean['da_auction_price_be'].plot(yerr = Error, grid = True,linewidth=1.5,color = 'k',ecolor='blue',elinewidth = 0.5)\n",
    "    Fig.set_xlabel('Time [Doy]',fontsize=20)\n",
    "    Fig.set_ylabel('Price [€]',fontsize=20)\n",
    "    return \n"
   ]
  },
  {
   "cell_type": "code",
   "execution_count": 14,
   "metadata": {},
   "outputs": [
    {
     "name": "stdout",
     "output_type": "stream",
     "text": [
      "Index(['imbalance_price_neg_be', 'imbalance_price_pos_be',\n",
      "       'imbalance_price_neg_nl', 'imbalance_price_pos_nl',\n",
      "       'da_auction_price_be', 'da_auction_price_nl'],\n",
      "      dtype='object')\n"
     ]
    }
   ],
   "source": [
    "print([0:])"
   ]
  },
  {
   "cell_type": "code",
   "execution_count": null,
   "metadata": {},
   "outputs": [],
   "source": []
  }
 ],
 "metadata": {
  "kernelspec": {
   "display_name": "Python 3",
   "language": "python",
   "name": "python3"
  },
  "language_info": {
   "codemirror_mode": {
    "name": "ipython",
    "version": 3
   },
   "file_extension": ".py",
   "mimetype": "text/x-python",
   "name": "python",
   "nbconvert_exporter": "python",
   "pygments_lexer": "ipython3",
   "version": "3.7.6"
  }
 },
 "nbformat": 4,
 "nbformat_minor": 4
}
