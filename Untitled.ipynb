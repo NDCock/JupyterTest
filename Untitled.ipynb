{
 "cells": [
  {
   "cell_type": "markdown",
   "metadata": {},
   "source": [
    "# Electricity prices statistics\n",
    "This script is reading a database with numerous electricity prices over one year. Then a dynamic graphical representation of the time aggregates is shown. "
   ]
  },
  {
   "cell_type": "code",
   "execution_count": 11,
   "metadata": {},
   "outputs": [
    {
     "data": {
      "application/vnd.jupyter.widget-view+json": {
       "model_id": "b01da8472bde419fa8532bee14f14628",
       "version_major": 2,
       "version_minor": 0
      },
      "text/plain": [
       "interactive(children=(Dropdown(description='column', options=('imbalance_price_neg_be', 'imbalance_price_pos_b…"
      ]
     },
     "metadata": {},
     "output_type": "display_data"
    }
   ],
   "source": [
    "import pandas as pd\n",
    "import matplotlib\n",
    "from matplotlib import pyplot as plt\n",
    "import numpy as np\n",
    "import time \n",
    "import datetime\n",
    "import matplotlib.pyplot as plt\n",
    "\n",
    "#Opening of the data\n",
    "data = pd.read_csv('DA prices BE NL 2018-2019.csv', sep = ';')\n",
    "\n",
    "#Cleaning of the \"Time\" column string by removing the +01:00\n",
    "data['Time'] = data['Time'].str.replace('\\+01:00','')\n",
    "\n",
    "#Conversion of the Time string into Datetime format\n",
    "Time = pd.to_datetime(data['Time'],utc = True)#format=\"%Y-%m-%dT%H:%M:%S%z\")\n",
    "\n",
    "#Extracting of the day of the year from the Datetime object and creation of a new column DOY\n",
    "#Similar time properties can be search (day, month, ...) more info here https://pandas.pydata.org/pandas-docs/stable/reference/api/pandas.DatetimeIndex.html\n",
    "data['DOY'] = pd.DatetimeIndex(Time).hour\n",
    "\n",
    "\n",
    "\n",
    "#Grouping of the data by day of the year (groupby fct) and aggregation using the mean in the agg() function. Other function can be used as\n",
    "# np.std or np.median for example\n",
    "dataMean = data.groupby(by = \"DOY\").agg(np.mean)\n",
    "dataStd = data.groupby(by = \"DOY\").agg(np.std)\n",
    "Error = dataStd['da_auction_price_be']\n",
    "#Plot of the price over time using the dataframe plot function. More option for the plot are available here https://pandas.pydata.org/pandas-docs/version/0.23.4/generated/pandas.DataFrame.plot.html\n",
    "\n",
    "#Increase of the display quality of the matplotlib plot\n",
    "matplotlib.rcParams['figure.dpi'] = 300\n",
    "\n",
    "#Import of the widget to make interactive plots\n",
    "import ipywidgets as widgets\n",
    "from ipywidgets import interact, interact_manual\n",
    "@interact\n",
    "def show_articles_more_than(column=dataMean.columns,TimePeriod = ['hour','dayofweek','dayofyear']):\n",
    "    data['DOY'] = getattr(pd.DatetimeIndex(Time),TimePeriod)\n",
    "    dataMean = data.groupby(by = \"DOY\").agg(np.mean)\n",
    "    dataMedian = data.groupby(by = \"DOY\").agg(np.median)\n",
    "    dataStd = data.groupby(by = \"DOY\").agg(np.std)\n",
    "    Error = dataStd['da_auction_price_be']\n",
    "    ax = dataMean[column].plot(yerr = Error, grid = True,linewidth=1.5,color = 'k',ecolor='blue',elinewidth = 0.5,label = 'Mean')\n",
    "    plt.rcParams['figure.figsize'] = [16, 12]\n",
    "    ax = dataMedian[column].plot(linewidth=1.5,color = 'g',label = 'Median')\n",
    "    ax.set_xlabel('Time [Doy]',fontsize=20)\n",
    "    ax.set_ylabel('Price [€]',fontsize=20)\n",
    "    ax.spines['right'].set_visible(False)\n",
    "    ax.spines['top'].set_visible(False)\n",
    "    ax.legend()\n",
    "    return \n"
   ]
  },
  {
   "cell_type": "code",
   "execution_count": null,
   "metadata": {},
   "outputs": [],
   "source": []
  }
 ],
 "metadata": {
  "kernelspec": {
   "display_name": "Python 3",
   "language": "python",
   "name": "python3"
  },
  "language_info": {
   "codemirror_mode": {
    "name": "ipython",
    "version": 3
   },
   "file_extension": ".py",
   "mimetype": "text/x-python",
   "name": "python",
   "nbconvert_exporter": "python",
   "pygments_lexer": "ipython3",
   "version": "3.7.6"
  }
 },
 "nbformat": 4,
 "nbformat_minor": 4
}
